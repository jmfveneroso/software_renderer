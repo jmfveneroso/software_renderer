{
 "cells": [
  {
   "cell_type": "markdown",
   "metadata": {},
   "source": [
    "## Solving linear regression with linear algebra\n",
    "\n",
    "What I want to do:\n",
    "- Solve linear regression with linear algebra\n",
    "\n",
    "I believe the following statements are true:\n",
    "- The linear regression describes a linear relationship between vectors x and y\n",
    "- The linear relationship can be described with a weight matrix Wx = y\n",
    "- The multivariate linear regression is a hyperplane in a subspace defined by the subspaces of data X and Y\n",
    "- The values of the weight matrix W can be calculated by projecting the data points in the hyperplane and choosing the hyperplane where the distance from all points to their projections is minimum.\n",
    "\n",
    "These are questions:\n",
    "\n",
    "- What is the meaning of \"regression\" in linear regression?\n",
    "- What is the meaning of \"linear\" in linear algebra?\n",
    "- What is a hyperplane?\n",
    "- What is a subspace?\n",
    "- How to calculate Ax = b when there is a solution?\n",
    "- How to determine if there is a solution to Ax = b?\n",
    "- What is the column space of a matrix?\n",
    "- How else can we solve multivariate linear regression?"
   ]
  },
  {
   "cell_type": "markdown",
   "metadata": {},
   "source": [
    "### What is the null space of a matrix?\n",
    "\n",
    "The **Null Space** of a matrix is the set of vectors $ x $ that yield the zero vector when they are multiplied by the matrix $ A $. That is:\n",
    "\n",
    "$ A \\overrightarrow{x} = \\overrightarrow{0} $\n",
    "\n",
    "#### How is it useful?\n",
    "\n",
    "This set describes all solutions to a set of linear equations.\n",
    "The null space of a matrix is also called a kernel (wikipedia). In this case it is the kernel of a linear map.\n",
    "\n",
    "\n",
    "\n",
    "$\n",
    "\\begin{pmatrix} \n",
    "1 & 1 & 1 & 1 \\\\\n",
    "1 & 2 & 3 & 4 \\\\\n",
    "4 & 3 & 2 & 1\n",
    "\\end{pmatrix}\n",
    "$\n",
    "\n",
    "What is the null space of a matrix?\n",
    "\n",
    "https://www.quora.com/What-is-a-null-space-in-linear-algebra\n",
    "\n",
    "Importance of the rank of a matrix?\n",
    "\n",
    "https://math.stackexchange.com/questions/21100/importance-of-matrix-rank\n",
    "\n",
    "Nullity is the complement to the rank of a matrix. \n",
    "\n",
    "https://math.stackexchange.com/questions/987146/why-null-space-and-column-space/987657#987657\n",
    "\n",
    "It is worth noting that all linear combinations of solutions to the null space are also solutions to the null space.\n",
    "\n",
    "https://en.wikipedia.org/wiki/Cokernel"
   ]
  },
  {
   "cell_type": "code",
   "execution_count": 9,
   "metadata": {},
   "outputs": [
    {
     "data": {
      "image/png": "[encoded data removed]",
      "text/plain": [
       "<Figure size 432x288 with 1 Axes>"
      ]
     },
     "metadata": {
      "needs_background": "light"
     },
     "output_type": "display_data"
    }
   ],
   "source": [
    "%matplotlib inline\n",
    "from numpy import array\n",
    "from matplotlib import pyplot\n",
    "data = array([\n",
    "    [-10.0, 0],\n",
    "    [10, 0]\n",
    "])\n",
    "X, y = data[:,0], data[:,1]\n",
    "X = X.reshape((len(X), 1))\n",
    "pyplot.plot(X, y)\n",
    "pyplot.show()"
   ]
  },
  {
   "cell_type": "code",
   "execution_count": 5,
   "metadata": {},
   "outputs": [
    {
     "data": {
      "image/png": "[encoded data removed]",
      "text/plain": [
       "<Figure size 432x288 with 1 Axes>"
      ]
     },
     "metadata": {
      "needs_background": "light"
     },
     "output_type": "display_data"
    }
   ],
   "source": [
    "%matplotlib inline\n",
    "from numpy import array\n",
    "from matplotlib import pyplot\n",
    "data = array([\n",
    "    [0.05, 0.12],\n",
    "    [0.18, 0.22],\n",
    "    [0.31, 0.35],\n",
    "    [0.42, 0.38],\n",
    "    [0.5, 0.49],\n",
    "])\n",
    "X, y = data[:,0], data[:,1]\n",
    "X = X.reshape((len(X), 1))\n",
    "pyplot.scatter(X, y)\n",
    "pyplot.show()"
   ]
  },
  {
   "cell_type": "code",
   "execution_count": null,
   "metadata": {},
   "outputs": [],
   "source": [
    "https://www.cemig.com.br/pt-br/atendimento/Paginas/valores_de_tarifa_e_servicos.aspx\n",
    "\n",
    "Preço killowat hora: 0.6883\n",
    "    \n",
    "10.255 Kw/h\n",
    "\n",
    "Cálculo BTUs\n",
    "https://www.webarcondicionado.com.br/calculo-de-btu\n",
    "\n",
    "10.550556 Kw / h\n",
    "\n",
    "1 BTU = 0.000293071 KW/h\n",
    "\n"
   ]
  }
 ],
 "metadata": {
  "kernelspec": {
   "display_name": "Python 3",
   "language": "python",
   "name": "python3"
  },
  "language_info": {
   "codemirror_mode": {
    "name": "ipython",
    "version": 3
   },
   "file_extension": ".py",
   "mimetype": "text/x-python",
   "name": "python",
   "nbconvert_exporter": "python",
   "pygments_lexer": "ipython3",
   "version": "3.7.3"
  }
 },
 "nbformat": 4,
 "nbformat_minor": 2
}
